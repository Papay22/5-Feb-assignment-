{
 "cells": [
  {
   "cell_type": "code",
   "execution_count": null,
   "id": "060c2451-8958-483f-8600-b89eca873c86",
   "metadata": {},
   "outputs": [],
   "source": [
    "1.\tClass: A class is a template or blueprint used to create objects in object-oriented programming. It defines the data type of a particular object and the types of operations that can be performed on it.\n",
    "Object: An object is an instance of a class. It is a real-world entity that has properties and methods associated with it.\n",
    "Example: A car is an object that has properties such as color, make, model, and year. It also has methods such as start, stop, and accelerate. The class for this car would include the data type of each property and the type of operations that can be performed on it.\n",
    "\n"
   ]
  },
  {
   "cell_type": "code",
   "execution_count": null,
   "id": "ab10484f-3852-4ed5-a945-db28fe33fe40",
   "metadata": {},
   "outputs": [],
   "source": [
    "2.\t1.Abstraction\n",
    "2. Encapsulation\n",
    "              3. Inheritance\n",
    "            4. Polymorphism\n"
   ]
  },
  {
   "cell_type": "code",
   "execution_count": null,
   "id": "df0c28f2-79a9-427f-a5a4-c38fd1b22fa7",
   "metadata": {},
   "outputs": [],
   "source": [
    "3. The init() function is used to initialize an object's state. It is called when an object of a class is created. It can be used to assign values to object properties, or other operations that are necessary to do when an object is being created.For example, if we have a class called Person, we can use the init() function to assign values to the properties of the Person object, such as name, age, etc.class Person: def init(self, name, age): self.name = name self.age = ageperson1 = Person(\"John\", 36) print(person1.name) print(person1.age) Output:John36\n",
    "\n"
   ]
  },
  {
   "cell_type": "code",
   "execution_count": null,
   "id": "4b1571b8-efea-41ab-baaa-6aafbb497ba2",
   "metadata": {},
   "outputs": [],
   "source": [
    "4. Self is used in OOPs to refer to the current instance of a class. It is used to access the attributes and methods of the class in which it is used. Self allows the programmer to refer to the current object without having to explicitly name it.\n"
   ]
  },
  {
   "cell_type": "code",
   "execution_count": null,
   "id": "d53d8e13-56e5-41b6-a58e-ce2b86070548",
   "metadata": {},
   "outputs": [],
   "source": [
    "5. Inheritance is the process of passing down characteristics from one generation to the next. It is a fundamental concept in object-oriented programming. There are three main types of inheritance: single inheritance, multiple inheritance, and hierarchical inheritance. Single Inheritance: Single inheritance occurs when a class inherits from a single parent class. For example, a Dog class could inherit from an Animal class. Multiple Inheritance: Multiple inheritance occurs when a class inherits from multiple parent classes. For example, a FlyingDog class could inherit from both the Dog and FlyingAnimal classes. Hierarchical Inheritance: Hierarchical inheritance occurs when multiple child classes inherit from a single parent class. For example, a Labrador, GoldenRetriever, and Chihuahua classes could all inherit from the Dog class\n",
    "\n",
    "\n",
    "\n"
   ]
  }
 ],
 "metadata": {
  "kernelspec": {
   "display_name": "Python 3 (ipykernel)",
   "language": "python",
   "name": "python3"
  },
  "language_info": {
   "codemirror_mode": {
    "name": "ipython",
    "version": 3
   },
   "file_extension": ".py",
   "mimetype": "text/x-python",
   "name": "python",
   "nbconvert_exporter": "python",
   "pygments_lexer": "ipython3",
   "version": "3.10.8"
  }
 },
 "nbformat": 4,
 "nbformat_minor": 5
}
